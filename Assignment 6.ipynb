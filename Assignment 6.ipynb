{
 "cells": [
  {
   "cell_type": "code",
   "execution_count": 1,
   "id": "5b6c90d7",
   "metadata": {},
   "outputs": [
    {
     "name": "stdout",
     "output_type": "stream",
     "text": [
      "Average kNN accuracy score with k-fold cross validation:  0.7980024968789013\n",
      "Average SVM accuracy score with k-fold cross validation:  0.8215605493133582\n"
     ]
    }
   ],
   "source": [
    "import pandas as pd\n",
    "import numpy as np\n",
    "from sklearn.model_selection import train_test_split, cross_val_score, StratifiedKFold\n",
    "from sklearn.preprocessing import LabelEncoder, StandardScaler\n",
    "from sklearn.impute import SimpleImputer\n",
    "from sklearn.neighbors import KNeighborsClassifier\n",
    "from sklearn.svm import SVC\n",
    "from sklearn.metrics import accuracy_score\n",
    "\n",
    "# 1. Load the dataset\n",
    "df = pd.read_excel(r\"C:\\Users\\Revathy\\Desktop\\Data 6.xlsx\")\n",
    "\n",
    "# 2. Preprocessing\n",
    "\n",
    "# Encode categorical variables if any exist\n",
    "le = LabelEncoder()\n",
    "for column in df.columns:\n",
    "    if df[column].dtype == type(object):\n",
    "        df[column] = le.fit_transform(df[column].astype(str))\n",
    "\n",
    "# Handling missing values\n",
    "imputer = SimpleImputer(strategy='mean')\n",
    "df = pd.DataFrame(imputer.fit_transform(df), columns=df.columns)\n",
    "\n",
    "# Define the features and target\n",
    "X = df.drop('Survived', axis=1)\n",
    "y = df['Survived']\n",
    "\n",
    "# Scale features\n",
    "scaler = StandardScaler()\n",
    "X = pd.DataFrame(scaler.fit_transform(X), columns=X.columns)\n",
    "\n",
    "# 3. Create kNN and SVM models\n",
    "knn = KNeighborsClassifier()\n",
    "svm = SVC()\n",
    "\n",
    "# 4. Cross validation\n",
    "kfold = StratifiedKFold(n_splits=10)\n",
    "knn_scores = cross_val_score(knn, X, y, cv=kfold)\n",
    "svm_scores = cross_val_score(svm, X, y, cv=kfold)\n",
    "\n",
    "# Average accuracy score\n",
    "print(\"Average kNN accuracy score with k-fold cross validation: \", np.mean(knn_scores))\n",
    "print(\"Average SVM accuracy score with k-fold cross validation: \", np.mean(svm_scores))"
   ]
  },
  {
   "cell_type": "code",
   "execution_count": null,
   "id": "10a4f266",
   "metadata": {},
   "outputs": [],
   "source": []
  }
 ],
 "metadata": {
  "kernelspec": {
   "display_name": "Python 3 (ipykernel)",
   "language": "python",
   "name": "python3"
  },
  "language_info": {
   "codemirror_mode": {
    "name": "ipython",
    "version": 3
   },
   "file_extension": ".py",
   "mimetype": "text/x-python",
   "name": "python",
   "nbconvert_exporter": "python",
   "pygments_lexer": "ipython3",
   "version": "3.10.9"
  }
 },
 "nbformat": 4,
 "nbformat_minor": 5
}
