{
 "cells": [
  {
   "cell_type": "code",
   "execution_count": 1,
   "id": "08b28477",
   "metadata": {},
   "outputs": [
    {
     "name": "stdout",
     "output_type": "stream",
     "text": [
      "   Year   Price\n",
      "0  2018  465000\n",
      "1  2019  755000\n",
      "2  2019  700000\n",
      "3  2018  465000\n",
      "4  2018  465000\n",
      "Linear Regression MSE: 4326906256.829671\n",
      "Lasso Regression MSE: 4326859771.015669\n",
      "Predicted price of a 2022 model (Linear Regression): 743601.6159450412\n",
      "Predicted price of a 2022 model (Lasso Regression): 743599.3742714375\n"
     ]
    }
   ],
   "source": [
    "# Import necessary libraries\n",
    "import pandas as pd\n",
    "from sklearn.model_selection import train_test_split\n",
    "from sklearn.linear_model import LinearRegression, Lasso\n",
    "from sklearn.metrics import mean_squared_error\n",
    "import numpy as np\n",
    "\n",
    "# Load the dataset\n",
    "df = pd.read_excel(r\"C:\\Users\\Revathy\\Desktop\\Case Study_2.xlsx\")  # Replace with your actual file path\n",
    "\n",
    "# Check if the data is loaded correctly\n",
    "print(df.head())\n",
    "\n",
    "# Define features and target\n",
    "X = df['Year'].values.reshape(-1,1)  # features (reshape is used to convert it to 2D array)\n",
    "y = df['Price'].values  # target\n",
    "\n",
    "# Split the data into training and testing set\n",
    "X_train, X_test, y_train, y_test = train_test_split(X, y, test_size=0.2, random_state=42)\n",
    "\n",
    "# Linear Regression model\n",
    "lr = LinearRegression()\n",
    "lr.fit(X_train, y_train)\n",
    "\n",
    "# Predict and calculate error\n",
    "y_pred_lr = lr.predict(X_test)\n",
    "mse_lr = mean_squared_error(y_test, y_pred_lr)\n",
    "print(f\"Linear Regression MSE: {mse_lr}\")\n",
    "\n",
    "# Lasso Regression model\n",
    "lasso = Lasso()\n",
    "lasso.fit(X_train, y_train)\n",
    "\n",
    "# Predict and calculate error\n",
    "y_pred_lasso = lasso.predict(X_test)\n",
    "mse_lasso = mean_squared_error(y_test, y_pred_lasso)\n",
    "print(f\"Lasso Regression MSE: {mse_lasso}\")\n",
    "\n",
    "# Predict the price of a 2022 model\n",
    "price_lr_2022 = lr.predict(np.array([[2022]]))\n",
    "price_lasso_2022 = lasso.predict(np.array([[2022]]))\n",
    "\n",
    "print(f\"Predicted price of a 2022 model (Linear Regression): {price_lr_2022[0]}\")\n",
    "print(f\"Predicted price of a 2022 model (Lasso Regression): {price_lasso_2022[0]}\")\n"
   ]
  },
  {
   "cell_type": "code",
   "execution_count": null,
   "id": "0c639d47",
   "metadata": {},
   "outputs": [],
   "source": []
  }
 ],
 "metadata": {
  "kernelspec": {
   "display_name": "Python 3 (ipykernel)",
   "language": "python",
   "name": "python3"
  },
  "language_info": {
   "codemirror_mode": {
    "name": "ipython",
    "version": 3
   },
   "file_extension": ".py",
   "mimetype": "text/x-python",
   "name": "python",
   "nbconvert_exporter": "python",
   "pygments_lexer": "ipython3",
   "version": "3.10.9"
  }
 },
 "nbformat": 4,
 "nbformat_minor": 5
}
