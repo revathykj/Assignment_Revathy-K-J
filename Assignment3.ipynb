{
 "cells": [
  {
   "cell_type": "code",
   "execution_count": 1,
   "metadata": {},
   "outputs": [],
   "source": [
    "# Import required libraries\n",
    "import pandas as pd\n",
    "import matplotlib.pyplot as plt\n",
    "import seaborn as sns"
   ]
  },
  {
   "cell_type": "code",
   "execution_count": 3,
   "metadata": {},
   "outputs": [
    {
     "name": "stdout",
     "output_type": "stream",
     "text": [
      "gender\n",
      "female    518\n",
      "male      482\n",
      "Name: count, dtype: int64\n",
      "parental level of education\n",
      "some college          226\n",
      "associate's degree    222\n",
      "high school           196\n",
      "some high school      179\n",
      "bachelor's degree     118\n",
      "master's degree        59\n",
      "Name: count, dtype: int64\n",
      "        math score  reading score  writing score\n",
      "gender                                          \n",
      "female   63.376448      72.590734      72.467181\n",
      "male     68.821577      65.545643      63.446058\n",
      "                         math score  reading score  writing score\n",
      "test preparation course                                          \n",
      "completed                  69.96648      74.175978      74.684358\n",
      "none                       63.78972      66.417445      64.457944\n",
      "        math score  reading score  writing score\n",
      "gender                                          \n",
      "female   16.029928      14.411018      14.844842\n",
      "male     14.556411      14.149594      14.227225\n",
      "                         math score  reading score  writing score\n",
      "test preparation course                                          \n",
      "completed                 14.521847      13.537572      13.236412\n",
      "none                      15.705689      14.608896      15.041667\n",
      "     gender race/ethnicity parental level of education         lunch   \n",
      "430  female        group A                some college      standard  \\\n",
      "431  female        group B           bachelor's degree  free/reduced   \n",
      "432  female        group D           bachelor's degree      standard   \n",
      "433  female        group D                 high school      standard   \n",
      "434  female        group D           bachelor's degree  free/reduced   \n",
      "..      ...            ...                         ...           ...   \n",
      "995    male        group E                some college      standard   \n",
      "996    male        group A                some college      standard   \n",
      "997    male        group D                some college      standard   \n",
      "998    male        group E          associate's degree  free/reduced   \n",
      "999    male        group E           bachelor's degree      standard   \n",
      "\n",
      "    test preparation course  math score  reading score  writing score  \n",
      "430               completed          78             87             91  \n",
      "431                    none          78             79             76  \n",
      "432                    none          78             82             79  \n",
      "433                    none          78             81             80  \n",
      "434                    none          78             90             93  \n",
      "..                      ...         ...            ...            ...  \n",
      "995               completed          99             87             81  \n",
      "996               completed         100             96             86  \n",
      "997               completed         100             97             99  \n",
      "998               completed         100            100             93  \n",
      "999               completed         100            100            100  \n",
      "\n",
      "[231 rows x 8 columns]\n"
     ]
    }
   ],
   "source": [
    "\n",
    "\n",
    "# Read the Excel file\n",
    "df = pd.read_csv('D:\\Any other\\Revathy\\Data 3.csv')\n",
    "\n",
    "# 1. Find out how many males and females participated in the test.\n",
    "gender_count = df['gender'].value_counts()\n",
    "print(gender_count)\n",
    "\n",
    "# 2. What do you think about the students' parental level of education?\n",
    "parental_education_count = df['parental level of education'].value_counts()\n",
    "print(parental_education_count)\n",
    "\n",
    "# 3. Who scores the most on average for math, reading and writing based on Gender and Test preparation course\n",
    "average_scores_gender = df.groupby('gender')[['math score', 'reading score', 'writing score']].mean()\n",
    "print(average_scores_gender)\n",
    "\n",
    "average_scores_prep_course = df.groupby('test preparation course')[['math score', 'reading score', 'writing score']].mean()\n",
    "print(average_scores_prep_course)\n",
    "\n",
    "# 4. What do you think about the scoring variation for math, reading and writing based on Gender and Test preparation course\n",
    "std_scores_gender = df.groupby('gender')[['math score', 'reading score', 'writing score']].std()\n",
    "print(std_scores_gender)\n",
    "\n",
    "std_scores_prep_course = df.groupby('test preparation course')[['math score', 'reading score', 'writing score']].std()\n",
    "print(std_scores_prep_course)\n",
    "\n",
    "# 5. The management needs your help to give bonus points to the top 25% of students based on their math score\n",
    "top_25_percentile = df[df['math score'] > df['math score'].quantile(0.75)]\n",
    "print(top_25_percentile)\n"
   ]
  }
 ],
 "metadata": {
  "kernelspec": {
   "display_name": "Python 3",
   "language": "python",
   "name": "python3"
  },
  "language_info": {
   "codemirror_mode": {
    "name": "ipython",
    "version": 3
   },
   "file_extension": ".py",
   "mimetype": "text/x-python",
   "name": "python",
   "nbconvert_exporter": "python",
   "pygments_lexer": "ipython3",
   "version": "3.10.11"
  },
  "orig_nbformat": 4
 },
 "nbformat": 4,
 "nbformat_minor": 2
}
